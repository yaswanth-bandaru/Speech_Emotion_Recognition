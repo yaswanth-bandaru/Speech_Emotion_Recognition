{
 "cells": [
  {
   "cell_type": "code",
   "execution_count": 2,
   "metadata": {
    "colab": {
     "base_uri": "https://localhost:8080/"
    },
    "id": "2eYAn-yePRfA",
    "outputId": "b248da29-c522-468d-d01d-ec41674e568a"
   },
   "outputs": [
    {
     "name": "stdout",
     "output_type": "stream",
     "text": [
      "Mounted at /content/drive/\n"
     ]
    }
   ],
   "source": [
    "from google.colab import drive\n",
    "drive.mount(\"/content/drive/\",force_remount=True)"
   ]
  },
  {
   "cell_type": "code",
   "execution_count": 3,
   "metadata": {
    "colab": {
     "base_uri": "https://localhost:8080/",
     "height": 35
    },
    "id": "cVWcyQprPZvH",
    "outputId": "4cff85d9-c910-4e71-ce66-abd7b5dcb4df"
   },
   "outputs": [
    {
     "data": {
      "application/vnd.google.colaboratory.intrinsic+json": {
       "type": "string"
      },
      "text/plain": [
       "'/content'"
      ]
     },
     "execution_count": 3,
     "metadata": {
      "tags": []
     },
     "output_type": "execute_result"
    }
   ],
   "source": [
    "import os\n",
    "os.getcwd()"
   ]
  },
  {
   "cell_type": "code",
   "execution_count": 4,
   "metadata": {
    "id": "igwpkPtbPmiy"
   },
   "outputs": [],
   "source": [
    "import keras\n",
    "from keras.preprocessing.image import ImageDataGenerator\n",
    "from keras.applications.vgg16 import VGG16\n",
    "from keras.layers import Input, Flatten, Dropout, Activation, BatchNormalization, Dense, Conv1D\n",
    "from keras.models import Model, Sequential\n",
    "from keras.callbacks import ModelCheckpoint, EarlyStopping\n",
    "from keras.utils import np_utils\n",
    "\n",
    "import matplotlib.pyplot as plt\n",
    "import pandas as pd\n",
    "import numpy as np\n",
    "\n",
    "from sklearn.preprocessing import StandardScaler, LabelEncoder\n",
    "from sklearn.decomposition import PCA"
   ]
  },
  {
   "cell_type": "code",
   "execution_count": 5,
   "metadata": {
    "id": "Pl94ehOI8twN"
   },
   "outputs": [],
   "source": [
    "train_path = \"/content/drive/MyDrive/Project/Data/Spectrograms/train\"\n",
    "test_path = \"/content/drive/MyDrive/Project/Data/Spectrograms/test\"\n",
    "class_mode = 'categorical'\n",
    "color_mode = 'rgb'\n",
    "shuffle = True"
   ]
  },
  {
   "cell_type": "code",
   "execution_count": 6,
   "metadata": {
    "colab": {
     "base_uri": "https://localhost:8080/"
    },
    "id": "0IL57oe28g0_",
    "outputId": "593e7e5c-af13-47ba-fdd4-9376d747b48a"
   },
   "outputs": [
    {
     "name": "stdout",
     "output_type": "stream",
     "text": [
      "Found 1202 images belonging to 16 classes.\n",
      "Found 298 images belonging to 16 classes.\n"
     ]
    }
   ],
   "source": [
    "traindata = ImageDataGenerator().flow_from_directory(directory=train_path, target_size= (224,224), class_mode=class_mode,\n",
    "                                                             color_mode=color_mode, shuffle=shuffle)\n",
    "testdata = ImageDataGenerator().flow_from_directory(directory=test_path, target_size= (224,224), class_mode=class_mode,\n",
    "                                                             color_mode=color_mode, shuffle=shuffle)"
   ]
  },
  {
   "cell_type": "code",
   "execution_count": 7,
   "metadata": {
    "id": "5IdvOawj_-Rk"
   },
   "outputs": [],
   "source": [
    "input_shape = Input(shape=(224, 224, 3))\n",
    "model_vgg16 = VGG16(weights=None,include_top=False ,input_tensor=input_shape, classes=16)\n",
    "model_output = model_vgg16(input_shape)\n",
    "\n",
    "vggmodel = Flatten(name='flatten')(model_output)\n",
    "vggmodel = Dense(4096, activation='relu', name='fc1')(vggmodel)\n",
    "vggmodel = Dense(4096, activation='relu', name='fc2')(vggmodel)\n",
    "vggmodel = Dropout(0.5)(vggmodel)\n",
    "vggmodel = Dense(16, activation='softmax', name='predictions')(vggmodel)\n",
    "\n",
    "model = Model(inputs=input_shape, outputs=vggmodel)\n",
    "\n",
    "optimizer = keras.optimizers.SGD(lr = 0.001, momentum=0.9, decay=0.0)"
   ]
  },
  {
   "cell_type": "code",
   "execution_count": 8,
   "metadata": {
    "id": "gw9TmUeEAZYy"
   },
   "outputs": [],
   "source": [
    "model.compile(optimizer=optimizer, loss='categorical_crossentropy', metrics=['accuracy'])"
   ]
  },
  {
   "cell_type": "code",
   "execution_count": 9,
   "metadata": {
    "colab": {
     "base_uri": "https://localhost:8080/"
    },
    "id": "cjzhvgsbBZkJ",
    "outputId": "b76d77dc-8110-4e11-e33f-31b159775209"
   },
   "outputs": [
    {
     "name": "stdout",
     "output_type": "stream",
     "text": [
      "WARNING:tensorflow:`period` argument is deprecated. Please use `save_freq` to specify the frequency in number of batches seen.\n"
     ]
    }
   ],
   "source": [
    "checkpoint = ModelCheckpoint(\"/content/drive/MyDrive/Project/Model/VGG16.h5\", monitor='val_accuracy', verbose=1, save_best_only=True, \n",
    "                              save_weights_only=False, mode='auto', period=1)\n",
    "\n",
    "## Early stopping is used to avoid model overfitting. \n",
    "##If the model accuracy on validation set does not increase in 20 consecutive iterations the model will stop training further.\n",
    "early = EarlyStopping(monitor='val_accuracy', min_delta=0, patience=20, verbose=1, mode='auto')"
   ]
  },
  {
   "cell_type": "code",
   "execution_count": 10,
   "metadata": {
    "colab": {
     "base_uri": "https://localhost:8080/"
    },
    "id": "IqBAfD2QB9GL",
    "outputId": "202990f4-1911-4084-a715-150ea0fe3875"
   },
   "outputs": [
    {
     "name": "stderr",
     "output_type": "stream",
     "text": [
      "/usr/local/lib/python3.7/dist-packages/tensorflow/python/keras/engine/training.py:1844: UserWarning: `Model.fit_generator` is deprecated and will be removed in a future version. Please use `Model.fit`, which supports generators.\n",
      "  warnings.warn('`Model.fit_generator` is deprecated and '\n"
     ]
    },
    {
     "name": "stdout",
     "output_type": "stream",
     "text": [
      "Epoch 1/30\n",
      "38/38 [==============================] - 303s 7s/step - loss: 2.7954 - accuracy: 0.0677 - val_loss: 2.7459 - val_accuracy: 0.0638\n",
      "\n",
      "Epoch 00001: val_accuracy improved from -inf to 0.06376, saving model to /content/drive/MyDrive/Project/Model/VGG16.h5\n",
      "Epoch 2/30\n",
      "38/38 [==============================] - 18s 474ms/step - loss: 2.7401 - accuracy: 0.0838 - val_loss: 2.7373 - val_accuracy: 0.1040\n",
      "\n",
      "Epoch 00002: val_accuracy improved from 0.06376 to 0.10403, saving model to /content/drive/MyDrive/Project/Model/VGG16.h5\n",
      "Epoch 3/30\n",
      "38/38 [==============================] - 18s 468ms/step - loss: 2.7285 - accuracy: 0.0955 - val_loss: 2.6777 - val_accuracy: 0.1208\n",
      "\n",
      "Epoch 00003: val_accuracy improved from 0.10403 to 0.12081, saving model to /content/drive/MyDrive/Project/Model/VGG16.h5\n",
      "Epoch 4/30\n",
      "38/38 [==============================] - 18s 471ms/step - loss: 2.6547 - accuracy: 0.1416 - val_loss: 2.5085 - val_accuracy: 0.1477\n",
      "\n",
      "Epoch 00004: val_accuracy improved from 0.12081 to 0.14765, saving model to /content/drive/MyDrive/Project/Model/VGG16.h5\n",
      "Epoch 5/30\n",
      "38/38 [==============================] - 18s 473ms/step - loss: 2.4956 - accuracy: 0.1642 - val_loss: 2.2398 - val_accuracy: 0.2315\n",
      "\n",
      "Epoch 00005: val_accuracy improved from 0.14765 to 0.23154, saving model to /content/drive/MyDrive/Project/Model/VGG16.h5\n",
      "Epoch 6/30\n",
      "38/38 [==============================] - 18s 466ms/step - loss: 2.2981 - accuracy: 0.2156 - val_loss: 2.0847 - val_accuracy: 0.2752\n",
      "\n",
      "Epoch 00006: val_accuracy improved from 0.23154 to 0.27517, saving model to /content/drive/MyDrive/Project/Model/VGG16.h5\n",
      "Epoch 7/30\n",
      "38/38 [==============================] - 18s 471ms/step - loss: 2.0440 - accuracy: 0.3043 - val_loss: 1.8168 - val_accuracy: 0.3456\n",
      "\n",
      "Epoch 00007: val_accuracy improved from 0.27517 to 0.34564, saving model to /content/drive/MyDrive/Project/Model/VGG16.h5\n",
      "Epoch 8/30\n",
      "38/38 [==============================] - 18s 480ms/step - loss: 2.0140 - accuracy: 0.3315 - val_loss: 1.7546 - val_accuracy: 0.4228\n",
      "Epoch 9/30\n",
      "38/38 [==============================] - 19s 484ms/step - loss: 1.7080 - accuracy: 0.4172 - val_loss: 1.8092 - val_accuracy: 0.3322\n",
      "\n",
      "Epoch 00009: val_accuracy did not improve from 0.42282\n",
      "Epoch 10/30\n",
      "38/38 [==============================] - 18s 472ms/step - loss: 1.6056 - accuracy: 0.4345 - val_loss: 1.5370 - val_accuracy: 0.4966\n",
      "\n",
      "Epoch 00010: val_accuracy improved from 0.42282 to 0.49664, saving model to /content/drive/MyDrive/Project/Model/VGG16.h5\n",
      "Epoch 11/30\n",
      "38/38 [==============================] - 18s 482ms/step - loss: 1.4226 - accuracy: 0.5289 - val_loss: 1.3023 - val_accuracy: 0.5268\n",
      "\n",
      "Epoch 00011: val_accuracy improved from 0.49664 to 0.52685, saving model to /content/drive/MyDrive/Project/Model/VGG16.h5\n",
      "Epoch 12/30\n",
      "38/38 [==============================] - 18s 474ms/step - loss: 1.2545 - accuracy: 0.5491 - val_loss: 1.5377 - val_accuracy: 0.4396\n",
      "\n",
      "Epoch 00012: val_accuracy did not improve from 0.52685\n",
      "Epoch 13/30\n",
      "38/38 [==============================] - 18s 476ms/step - loss: 1.2010 - accuracy: 0.5749 - val_loss: 1.1920 - val_accuracy: 0.5638\n",
      "\n",
      "Epoch 00013: val_accuracy improved from 0.52685 to 0.56376, saving model to /content/drive/MyDrive/Project/Model/VGG16.h5\n",
      "Epoch 14/30\n",
      "38/38 [==============================] - 18s 482ms/step - loss: 1.0275 - accuracy: 0.6075 - val_loss: 1.1304 - val_accuracy: 0.5973\n",
      "\n",
      "Epoch 00014: val_accuracy improved from 0.56376 to 0.59732, saving model to /content/drive/MyDrive/Project/Model/VGG16.h5\n",
      "Epoch 15/30\n",
      "38/38 [==============================] - 18s 480ms/step - loss: 0.8357 - accuracy: 0.7184 - val_loss: 1.1144 - val_accuracy: 0.6409\n",
      "\n",
      "Epoch 00015: val_accuracy improved from 0.59732 to 0.64094, saving model to /content/drive/MyDrive/Project/Model/VGG16.h5\n",
      "Epoch 16/30\n",
      "38/38 [==============================] - 18s 481ms/step - loss: 0.7406 - accuracy: 0.7490 - val_loss: 1.3035 - val_accuracy: 0.5503\n",
      "\n",
      "Epoch 00016: val_accuracy did not improve from 0.64094\n",
      "Epoch 17/30\n",
      "38/38 [==============================] - 18s 478ms/step - loss: 0.7092 - accuracy: 0.7496 - val_loss: 1.1861 - val_accuracy: 0.5940\n",
      "\n",
      "Epoch 00017: val_accuracy did not improve from 0.64094\n",
      "Epoch 18/30\n",
      "38/38 [==============================] - 18s 480ms/step - loss: 0.7303 - accuracy: 0.7393 - val_loss: 1.0457 - val_accuracy: 0.6611\n",
      "\n",
      "Epoch 00018: val_accuracy improved from 0.64094 to 0.66107, saving model to /content/drive/MyDrive/Project/Model/VGG16.h5\n",
      "Epoch 19/30\n",
      "38/38 [==============================] - 18s 478ms/step - loss: 0.6046 - accuracy: 0.7919 - val_loss: 0.8804 - val_accuracy: 0.6913\n",
      "\n",
      "Epoch 00019: val_accuracy improved from 0.66107 to 0.69128, saving model to /content/drive/MyDrive/Project/Model/VGG16.h5\n",
      "Epoch 20/30\n",
      "38/38 [==============================] - 19s 489ms/step - loss: 0.3681 - accuracy: 0.8678 - val_loss: 0.9628 - val_accuracy: 0.7148\n",
      "\n",
      "Epoch 00020: val_accuracy improved from 0.69128 to 0.71477, saving model to /content/drive/MyDrive/Project/Model/VGG16.h5\n",
      "Epoch 21/30\n",
      "38/38 [==============================] - 19s 485ms/step - loss: 0.3374 - accuracy: 0.8875 - val_loss: 0.8288 - val_accuracy: 0.7248\n",
      "\n",
      "Epoch 00021: val_accuracy improved from 0.71477 to 0.72483, saving model to /content/drive/MyDrive/Project/Model/VGG16.h5\n",
      "Epoch 22/30\n",
      "38/38 [==============================] - 19s 486ms/step - loss: 0.2588 - accuracy: 0.9146 - val_loss: 0.9586 - val_accuracy: 0.6812\n",
      "\n",
      "Epoch 00022: val_accuracy did not improve from 0.72483\n",
      "Epoch 23/30\n",
      "38/38 [==============================] - 18s 476ms/step - loss: 0.2926 - accuracy: 0.8993 - val_loss: 1.0565 - val_accuracy: 0.7114\n",
      "\n",
      "Epoch 00023: val_accuracy did not improve from 0.72483\n",
      "Epoch 24/30\n",
      "38/38 [==============================] - 18s 480ms/step - loss: 0.2638 - accuracy: 0.9024 - val_loss: 0.8271 - val_accuracy: 0.7282\n",
      "\n",
      "Epoch 00024: val_accuracy improved from 0.72483 to 0.72819, saving model to /content/drive/MyDrive/Project/Model/VGG16.h5\n",
      "Epoch 25/30\n",
      "38/38 [==============================] - 19s 485ms/step - loss: 0.1858 - accuracy: 0.9424 - val_loss: 1.0229 - val_accuracy: 0.7282\n",
      "\n",
      "Epoch 00025: val_accuracy did not improve from 0.72819\n",
      "Epoch 26/30\n",
      "38/38 [==============================] - 18s 478ms/step - loss: 0.1730 - accuracy: 0.9358 - val_loss: 1.0533 - val_accuracy: 0.7013\n",
      "\n",
      "Epoch 00026: val_accuracy did not improve from 0.72819\n",
      "Epoch 27/30\n",
      "38/38 [==============================] - 18s 482ms/step - loss: 0.2077 - accuracy: 0.9379 - val_loss: 0.8867 - val_accuracy: 0.7416\n",
      "\n",
      "Epoch 00027: val_accuracy improved from 0.72819 to 0.74161, saving model to /content/drive/MyDrive/Project/Model/VGG16.h5\n",
      "Epoch 28/30\n",
      "38/38 [==============================] - 19s 483ms/step - loss: 0.1276 - accuracy: 0.9538 - val_loss: 0.8906 - val_accuracy: 0.7483\n",
      "\n",
      "Epoch 00028: val_accuracy improved from 0.74161 to 0.74832, saving model to /content/drive/MyDrive/Project/Model/VGG16.h5\n",
      "Epoch 29/30\n",
      "38/38 [==============================] - 18s 479ms/step - loss: 0.0473 - accuracy: 0.9828 - val_loss: 1.0494 - val_accuracy: 0.7450\n",
      "\n",
      "Epoch 00029: val_accuracy did not improve from 0.74832\n",
      "Epoch 30/30\n",
      "38/38 [==============================] - 18s 480ms/step - loss: 0.0767 - accuracy: 0.9768 - val_loss: 1.1602 - val_accuracy: 0.7248\n",
      "\n",
      "Epoch 00030: val_accuracy did not improve from 0.74832\n"
     ]
    }
   ],
   "source": [
    "hist = model.fit_generator(generator=traindata, validation_data=testdata, epochs=30,\n",
    "                                                 callbacks=[checkpoint,early])"
   ]
  },
  {
   "cell_type": "code",
   "execution_count": 14,
   "metadata": {
    "colab": {
     "base_uri": "https://localhost:8080/",
     "height": 573
    },
    "id": "qOYo3iZEC71C",
    "outputId": "a1afd021-0a2d-4832-e229-8a86313c77e6"
   },
   "outputs": [
    {
     "data": {
      "image/png": "[encoded data removed]",
      "text/plain": [
       "<Figure size 432x288 with 1 Axes>"
      ]
     },
     "metadata": {
      "needs_background": "light",
      "tags": []
     },
     "output_type": "display_data"
    },
    {
     "data": {
      "image/png": "[encoded data removed]",
      "text/plain": [
       "<Figure size 432x288 with 1 Axes>"
      ]
     },
     "metadata": {
      "needs_background": "light",
      "tags": []
     },
     "output_type": "display_data"
    }
   ],
   "source": [
    "# PLOT MODEL HISTORY OF ACCURACY AND LOSS OVER EPOCHS\n",
    "plt.plot(hist.history['accuracy'])\n",
    "plt.plot(hist.history['val_accuracy'])\n",
    "plt.title('Model Accuracy')\n",
    "plt.ylabel('Accuracy')\n",
    "plt.xlabel('Epoch')\n",
    "plt.legend(['Train', 'Test'], loc='upper left')\n",
    "plt.savefig('Initial_Model_Accuracy.png')\n",
    "plt.show()\n",
    "# summarize history for loss\n",
    "plt.plot(hist.history['loss'])\n",
    "plt.plot(hist.history['val_loss'])\n",
    "plt.title('Model Loss')\n",
    "plt.ylabel('Loss')\n",
    "plt.xlabel('Epoch')\n",
    "plt.legend(['train', 'test'], loc='upper left')\n",
    "plt.savefig('Initial_Model_loss.png')\n",
    "plt.show()"
   ]
  },
  {
   "cell_type": "code",
   "execution_count": null,
   "metadata": {
    "id": "yueyeHSCQRRI"
   },
   "outputs": [],
   "source": []
  }
 ],
 "metadata": {
  "accelerator": "GPU",
  "colab": {
   "collapsed_sections": [],
   "name": "SER_CNN.ipynb",
   "provenance": []
  },
  "kernelspec": {
   "display_name": "Python 3",
   "language": "python",
   "name": "python3"
  },
  "language_info": {
   "codemirror_mode": {
    "name": "ipython",
    "version": 3
   },
   "file_extension": ".py",
   "mimetype": "text/x-python",
   "name": "python",
   "nbconvert_exporter": "python",
   "pygments_lexer": "ipython3",
   "version": "3.8.5"
  }
 },
 "nbformat": 4,
 "nbformat_minor": 1
}
