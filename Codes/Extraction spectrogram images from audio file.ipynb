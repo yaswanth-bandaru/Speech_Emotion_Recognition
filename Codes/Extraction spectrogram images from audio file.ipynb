{
 "cells": [
  {
   "cell_type": "code",
   "execution_count": 5,
   "metadata": {},
   "outputs": [
    {
     "data": {
      "text/html": [
       "        <script type=\"text/javascript\">\n",
       "        window.PlotlyConfig = {MathJaxConfig: 'local'};\n",
       "        if (window.MathJax) {MathJax.Hub.Config({SVG: {font: \"STIX-Web\"}});}\n",
       "        if (typeof require !== 'undefined') {\n",
       "        require.undef(\"plotly\");\n",
       "        requirejs.config({\n",
       "            paths: {\n",
       "                'plotly': ['https://cdn.plot.ly/plotly-latest.min']\n",
       "            }\n",
       "        });\n",
       "        require(['plotly'], function(Plotly) {\n",
       "            window._Plotly = Plotly;\n",
       "        });\n",
       "        }\n",
       "        </script>\n",
       "        "
      ]
     },
     "metadata": {},
     "output_type": "display_data"
    }
   ],
   "source": [
    "import pandas as pd\n",
    "import numpy as np\n",
    "import os\n",
    "import sys\n",
    "import glob \n",
    "import IPython.display as ipd\n",
    "import random\n",
    "import matplotlib.pyplot as plt\n",
    "import plotly.offline as py\n",
    "import seaborn as sns\n",
    "import scipy.stats\n",
    "from scipy.fftpack import fft\n",
    "from scipy import signal\n",
    "from scipy.io import wavfile\n",
    "from sklearn.model_selection import StratifiedShuffleSplit\n",
    "import librosa\n",
    "import librosa.display\n",
    "from tqdm import tqdm\n",
    "import warnings\n",
    "warnings.filterwarnings('ignore')\n",
    "pd.set_option('display.max_columns', None)\n",
    "py.init_notebook_mode(connected=True)"
   ]
  },
  {
   "cell_type": "code",
   "execution_count": 6,
   "metadata": {},
   "outputs": [],
   "source": [
    "## Loading Data\n",
    "def metadata(basepath):\n",
    "    dir_list = os.listdir(basepath)\n",
    "    dir_list.sort()\n",
    "\n",
    "    ## DataFrame to save metadata of Ravdess audio files\n",
    "    df = pd.DataFrame(columns=['path', 'source', 'actor', 'gender', 'intensity', 'statement', 'repetition', 'emotion'])\n",
    "    count = 0\n",
    "\n",
    "    ## Iterating through the directory, reading audio files, and extracting information from the file name\n",
    "    for f in os.listdir(basepath):\n",
    "        filename = f.split('.')[0].split('-')\n",
    "        if(len(filename)==7):\n",
    "            path = basepath + f\n",
    "            src = int(filename[1])\n",
    "            actor = int(filename[-1])\n",
    "            emotion = int(filename[2])\n",
    "            gender = \"female\" if int(actor)%2 == 0 else \"male\"\n",
    "            intensity = 0 if filename[3] == '01' else 1\n",
    "            statement = 0 if filename[4] == '01' else 1\n",
    "            repeat = 0 if filename[5] == '01' else 1\n",
    "        df.loc[count] = [path, src, actor, gender, intensity, statement, repeat, emotion]\n",
    "        count += 1\n",
    "\n",
    "    labels = []\n",
    "    for i in range(len(df)):\n",
    "        if df.emotion[i] == 1:\n",
    "            label = \"_neutral\"\n",
    "        elif df.emotion[i] == 2:\n",
    "            label = \"_calm\"\n",
    "        elif df.emotion[i] == 3:\n",
    "            label = \"_happy\"\n",
    "        elif df.emotion[i] == 4:\n",
    "            label = \"_sad\"\n",
    "        elif df.emotion[i] == 5:\n",
    "            label = \"_angry\"\n",
    "        elif df.emotion[i] == 6:\n",
    "            label = \"_fearful\"\n",
    "        elif df.emotion[i] == 7:\n",
    "            label = \"_disgust\"\n",
    "        elif df.emotion[i] == 8:\n",
    "            label = \"_surprised\"\n",
    "        else:\n",
    "            label = \"_none\"\n",
    "\n",
    "        # Add gender to the label \n",
    "        labels.append(df.loc[i,'gender'] + label)\n",
    "\n",
    "    df['label'] = labels\n",
    "    \n",
    "    return df"
   ]
  },
  {
   "cell_type": "code",
   "execution_count": 7,
   "metadata": {},
   "outputs": [],
   "source": [
    "df = metadata(\"Y:/Masters_Content/Deep_Learning/Project/Data/Files/\")"
   ]
  },
  {
   "cell_type": "code",
   "execution_count": 8,
   "metadata": {},
   "outputs": [],
   "source": [
    "## Creating training and test dataframes through stratified sampling, test dataframes size 0.2*(total data)\n",
    "sss = StratifiedShuffleSplit(n_splits=2, random_state=11, test_size=0.2)\n",
    "for train_index, test_index in sss.split(df, df.label):\n",
    "    df_train, df_test = df.iloc[train_index,:], df.iloc[test_index,:]"
   ]
  },
  {
   "cell_type": "code",
   "execution_count": 9,
   "metadata": {},
   "outputs": [],
   "source": [
    "## Replace indices with path column\n",
    "df_train.index = df_train.path\n",
    "df_train = df_train.drop(\"path\", axis=1)\n",
    "\n",
    "df_test.index = df_test.path\n",
    "df_test = df_test.drop(\"path\", axis=1)"
   ]
  },
  {
   "cell_type": "code",
   "execution_count": 10,
   "metadata": {},
   "outputs": [],
   "source": [
    "## Spectrogram class takes the metadata file created in the previous step along with output path and type of data (train, validation, test). \n",
    "## Users has the option to specify what kind of spectrograms they want. \n",
    "## The class can generate 3 types of spectrograms: Mel Scale, MFCC, and Spectral\n",
    "## If sample is set to true, the class will just display the required spectrogram of the fist file in the dataset\n",
    "\n",
    "class Spectrograms():\n",
    "    def __init__(self, df, datasettype, outputpath, sample=False, augmentation=False, mel=True, mfcc=False):\n",
    "        self.df = df\n",
    "        self.augmentation = augmentation\n",
    "        self.mel = mel\n",
    "        self.outputpath = outputpath\n",
    "        self.datasettype = datasettype\n",
    "        self.sample = sample\n",
    "        \n",
    "    def get_spectrograms(self):\n",
    "        if self.sample:\n",
    "            x, sample_rate = librosa.load(self.df.index[0])\n",
    "            self.generate(x, sample_rate, '', 0)\n",
    "        \n",
    "        else:\n",
    "            for file in tqdm(range(self.df.shape[0])):\n",
    "                emotion = df.iloc[file, -1]\n",
    "                path = self.outputpath+self.datasettype+\"/\"+emotion+\"/\"\n",
    "                if not os.path.exists(path):\n",
    "                    os.makedirs(path)\n",
    "\n",
    "                ## Reading signal from .wav file\n",
    "                x, sample_rate = librosa.load(self.df.index[file])\n",
    "                self.generate(x, sample_rate, path, file)\n",
    "\n",
    "        \n",
    "    def generate(self, x, sample_rate, path, count):\n",
    "        mel_features = librosa.feature.melspectrogram(x, sr=sample_rate, n_mels=self.n_mels)\n",
    "        log_mel_features = librosa.power_to_db(mel_features, ref=np.max)\n",
    "        fig = plt.figure(figsize=(12,4))\n",
    "        ax = plt.Axes(fig, [0., 0., 1., 1.])\n",
    "        ax.set_axis_off()\n",
    "        fig.add_axes(ax)\n",
    "        librosa.display.specshow(log_mel_features, sr=sample_rate, x_axis='time', y_axis='mel')\n",
    "        if self.sample:\n",
    "            plt.show()\n",
    "        else:\n",
    "            plt.savefig(path+\"melspectrogram_\"+str(count)+\".jpg\")\n",
    "            plt.close()"
   ]
  },
  {
   "cell_type": "code",
   "execution_count": 11,
   "metadata": {},
   "outputs": [],
   "source": [
    "df = df_train\n",
    "augmentation = False\n",
    "mel = True\n",
    "outputpath = \"Y:/Masters_Content/Deep_Learning/Project/Data/Spectrograms/\"\n",
    "datasettype = \"train\"\n",
    "sample = False "
   ]
  },
  {
   "cell_type": "code",
   "execution_count": 12,
   "metadata": {},
   "outputs": [
    {
     "name": "stderr",
     "output_type": "stream",
     "text": [
      "100%|██████████████████████████████████████████████████████████████████████████████| 1152/1152 [02:08<00:00,  8.98it/s]\n"
     ]
    }
   ],
   "source": [
    "## Mel Spectrogram Sample\n",
    "spectrograms = Spectrograms(df_train, 'train', 'Y:/Masters_Content/Deep_Learning/Project/Data/Spectrograms/', sample=False)\n",
    "spectrograms.get_spectrograms()"
   ]
  },
  {
   "cell_type": "code",
   "execution_count": 13,
   "metadata": {},
   "outputs": [],
   "source": [
    "outputpath = \"Y:/Masters_Content/Deep_Learning/Project/Data/Spectrograms/\"\n",
    "datasettype = \"test\""
   ]
  },
  {
   "cell_type": "code",
   "execution_count": 15,
   "metadata": {},
   "outputs": [],
   "source": [
    "# Saving Spectrograms\n",
    "train_dct = {}\n",
    "for i in os.listdir(\"Y:/Masters_Content/Deep_Learning/Project/Data/Spectrograms/train\"):\n",
    "    cnt = []\n",
    "    for j in os.listdir(\"Y:/Masters_Content/Deep_Learning/Project/Data/Spectrograms/train/\" + str(i)):\n",
    "        cnt.append(j)\n",
    "    train_dct[i] = len(cnt)"
   ]
  }
 ],
 "metadata": {
  "kernelspec": {
   "display_name": "Python 3",
   "language": "python",
   "name": "python3"
  },
  "language_info": {
   "codemirror_mode": {
    "name": "ipython",
    "version": 3
   },
   "file_extension": ".py",
   "mimetype": "text/x-python",
   "name": "python",
   "nbconvert_exporter": "python",
   "pygments_lexer": "ipython3",
   "version": "3.8.5"
  }
 },
 "nbformat": 4,
 "nbformat_minor": 4
}
